{
 "cells": [
  {
   "cell_type": "markdown",
   "metadata": {},
   "source": [
    "# Qualtrics integration and pipeline\n",
    "Demonstration of how we will generate archetypes from the *Qualtrics* responses both for the current car as well as for each vintage (i.e. archetype defined by `vehicle_type` and `fuel_type`)"
   ]
  },
  {
   "cell_type": "code",
   "execution_count": 2,
   "metadata": {},
   "outputs": [],
   "source": [
    "##### implement logging #####\n",
    "\"https://docs.python.org/3/howto/logging.html\"\n",
    "import logging\n",
    "\n",
    "logging.basicConfig(format='%(asctime)s %(levelname)s %(funcName)s %(message)s', filename='logging.log', level=logging.INFO)"
   ]
  },
  {
   "cell_type": "markdown",
   "metadata": {},
   "source": [
    "## Qualtrics"
   ]
  },
  {
   "cell_type": "code",
   "execution_count": 3,
   "metadata": {},
   "outputs": [],
   "source": [
    "import os\n",
    "\n",
    "from QualtricsAPI.Setup import Credentials\n",
    "\n",
    "from QualtricsAPI import Responses\n"
   ]
  },
  {
   "cell_type": "code",
   "execution_count": null,
   "metadata": {},
   "outputs": [],
   "source": [
    "TOKEN = os.environ.get(\"QUALTRICS_API_KEY\")\n",
    "DATA_CENTER = os.environ.get(\"QUALTRICS_BASE_URL\").split(\".\")[0]\n"
   ]
  },
  {
   "cell_type": "code",
   "execution_count": null,
   "metadata": {},
   "outputs": [],
   "source": [
    "Credentials().qualtrics_api_credentials(token=TOKEN, data_center=DATA_CENTER)\n"
   ]
  },
  {
   "cell_type": "code",
   "execution_count": null,
   "metadata": {},
   "outputs": [],
   "source": [
    "r = Responses()\n",
    "survey_id = \"SV_6u4YzY24OAfhWfQ\"\n",
    "df_pre_study = r.get_survey_responses(\"SV_6u4YzY24OAfhWfQ\")\n"
   ]
  },
  {
   "cell_type": "code",
   "execution_count": null,
   "metadata": {},
   "outputs": [],
   "source": [
    "df_pre_study.head()\n"
   ]
  },
  {
   "cell_type": "markdown",
   "metadata": {},
   "source": [
    "## Workflow"
   ]
  },
  {
   "cell_type": "code",
   "execution_count": 4,
   "metadata": {},
   "outputs": [],
   "source": [
    "import api.scrape as tcs\n",
    "\n",
    "from api.helper import Car\n"
   ]
  },
  {
   "cell_type": "code",
   "execution_count": null,
   "metadata": {},
   "outputs": [],
   "source": [
    "Car.vehicle_classes\n"
   ]
  },
  {
   "cell_type": "code",
   "execution_count": null,
   "metadata": {},
   "outputs": [],
   "source": [
    "Car.fuel_types\n"
   ]
  },
  {
   "cell_type": "code",
   "execution_count": 6,
   "metadata": {},
   "outputs": [
    {
     "name": "stdout",
     "output_type": "stream",
     "text": [
      "vehicle_type:     Mittelklasse\n",
      "fuel_type:        Elektro\n",
      "fuel_consumption: 15\n"
     ]
    }
   ],
   "source": [
    "car = Car(\"Mittelklasse\", \"Elektro\", 15)\n",
    "print(car)\n"
   ]
  },
  {
   "cell_type": "code",
   "execution_count": 7,
   "metadata": {},
   "outputs": [
    {
     "name": "stdout",
     "output_type": "stream",
     "text": [
      "Extracted Tesla Model 3 ­\n",
      "Extracted Tesla Model 3 Long Range\n"
     ]
    }
   ],
   "source": [
    "similar_cars = tcs.get_cars(\n",
    "    car, km=20e3, canton=\"ZH\", similar={\"flag\": True, \"buffer\": 1}, verbose=True\n",
    ")\n"
   ]
  },
  {
   "cell_type": "code",
   "execution_count": 8,
   "metadata": {},
   "outputs": [
    {
     "data": {
      "text/plain": [
       "2"
      ]
     },
     "execution_count": 8,
     "metadata": {},
     "output_type": "execute_result"
    }
   ],
   "source": [
    "len(similar_cars)\n"
   ]
  },
  {
   "cell_type": "code",
   "execution_count": 9,
   "metadata": {},
   "outputs": [],
   "source": [
    "def remove_unit(string):\n",
    "    \"\"\"Removes unit from string like 17'000 CHF/year -> float(17e3)\n",
    "\n",
    "    Args:\n",
    "        string (str): string with unit\n",
    "    \"\"\"\n",
    "    number, unit = string.split(\" \")\n",
    "    number = number.replace(\"'\", \"\")\n",
    "    return float(number)\n"
   ]
  },
  {
   "cell_type": "code",
   "execution_count": 19,
   "metadata": {},
   "outputs": [],
   "source": [
    "import pandas as pd\n",
    "\n",
    "\n",
    "def generate_archetype(similar_cars, ndigits=2):\n",
    "    \"\"\"Generates an archetypical car from a list of similar cars\n",
    "\n",
    "    Args:\n",
    "        similar_cars (list of dict): returned by get_cars()\n",
    "        ndigits (int): round average values to\n",
    "    \"\"\"\n",
    "    car_attributes = []\n",
    "    for c in similar_cars:\n",
    "        costs = c[\"costs\"]\n",
    "        attrs = {\n",
    "            \"fix_cost\": remove_unit(costs[\"Fixe Kosten\"]),\n",
    "            \"variable_cost\": remove_unit(costs[\"Variable Kosten\"]),\n",
    "            \"cost_per_km\": remove_unit(costs[\"Kilometerkosten\"]),\n",
    "        }\n",
    "\n",
    "        try:\n",
    "            reach = c[\"specs\"][\"Reichweite (NEFZ/WLTP)\"].split(\" / \")\n",
    "            reach = float(reach[1])\n",
    "        except:\n",
    "            reach = None\n",
    "\n",
    "        attrs[\"reach\"] = reach\n",
    "        car_attributes.append(attrs)\n",
    "\n",
    "    car_attributes = pd.DataFrame(car_attributes)\n",
    "\n",
    "    archetype = dict(round(car_attributes.mean(), ndigits=ndigits))\n",
    "\n",
    "    return archetype\n"
   ]
  },
  {
   "cell_type": "code",
   "execution_count": 18,
   "metadata": {},
   "outputs": [
    {
     "data": {
      "text/plain": [
       "'491'"
      ]
     },
     "execution_count": 18,
     "metadata": {},
     "output_type": "execute_result"
    }
   ],
   "source": [
    "similar_cars[0][\"specs\"][\"Reichweite (NEFZ/WLTP)\"].split(\" / \")[1]"
   ]
  },
  {
   "cell_type": "code",
   "execution_count": 20,
   "metadata": {},
   "outputs": [
    {
     "data": {
      "text/plain": [
       "{'fix_cost': 7520.0,\n",
       " 'variable_cost': 4274.0,\n",
       " 'cost_per_km': 0.59,\n",
       " 'reach': 547.5}"
      ]
     },
     "execution_count": 20,
     "metadata": {},
     "output_type": "execute_result"
    }
   ],
   "source": [
    "archetype = generate_archetype(similar_cars)\n",
    "archetype\n"
   ]
  },
  {
   "cell_type": "markdown",
   "metadata": {},
   "source": [
    "## Pipeline\n",
    "\n",
    "### User specific archetype"
   ]
  },
  {
   "cell_type": "code",
   "execution_count": null,
   "metadata": {},
   "outputs": [],
   "source": [
    "## generate data.frame with variables to feed to get_cars\n",
    "df_qualt = pd.DataFrame(\n",
    "    {\n",
    "        \"vehicle_type\": [\"SUV S\", \"Luxusklasse\", \"Mittelklasse\"],\n",
    "        \"fuel_type\": [\"Elektro\", \"Benzin\", \"Benzin\"],\n",
    "        \"fuel_consumption\": [14, 7, 2],  ## if electric => kWh/100km\n",
    "        \"km\": [15e3, 20e3, 22e3],\n",
    "        \"canton\": [\"VD\", \"AI\", \"ZG\"],\n",
    "    }\n",
    ")\n",
    "\n",
    "df_qualt.head()\n"
   ]
  },
  {
   "cell_type": "code",
   "execution_count": 21,
   "metadata": {},
   "outputs": [],
   "source": [
    "def helper(row, max_buffer=5, verbose=True, headless=True):\n",
    "    car = Car(row[\"vehicle_type\"], row[\"fuel_type\"], row[\"fuel_consumption\"])\n",
    "    init = 1\n",
    "    if verbose:\n",
    "        print(\"---\\n{}\\n---\".format(car))\n",
    "    while init < max_buffer + 1:\n",
    "        try:\n",
    "            sc = tcs.get_cars(\n",
    "                car,\n",
    "                row[\"km\"],\n",
    "                row[\"canton\"],\n",
    "                similar={\"flag\": True, \"buffer\": init},\n",
    "                verbose=verbose,\n",
    "                headless=headless\n",
    "            )\n",
    "        except Exception:\n",
    "            init += 1\n",
    "            if verbose:\n",
    "                print(\"increaseing buffer to {}\".format(init))\n",
    "            continue\n",
    "        return sc\n",
    "    return None\n"
   ]
  },
  {
   "cell_type": "code",
   "execution_count": null,
   "metadata": {},
   "outputs": [],
   "source": [
    "df_qualt[\"similar_cars\"] = df_qualt.apply(lambda row: helper(row), axis=1)\n"
   ]
  },
  {
   "cell_type": "code",
   "execution_count": null,
   "metadata": {},
   "outputs": [],
   "source": [
    "## generate archetypes\n",
    "df_qualt[\"archetype\"] = df_qualt.apply(\n",
    "    lambda row: generate_archetype(row[\"similar_cars\"]), axis=1\n",
    ")\n",
    "df_qualt[\"archetype\"]\n"
   ]
  },
  {
   "cell_type": "code",
   "execution_count": null,
   "metadata": {},
   "outputs": [],
   "source": [
    "## unpack stuff\n",
    "df_qualt = df_qualt.assign(\n",
    "    archetype_fix_cost=lambda x: [y[\"fix_cost\"] for y in x[\"archetype\"]],\n",
    "    archetype_variable_cost=lambda x: [y[\"variable_cost\"] for y in x[\"archetype\"]],\n",
    "    archetype_cost_per_km=lambda x: [y[\"cost_per_km\"] for y in x[\"archetype\"]],\n",
    ")\n"
   ]
  },
  {
   "cell_type": "markdown",
   "metadata": {},
   "source": [
    "### Generic archetypes"
   ]
  },
  {
   "cell_type": "code",
   "execution_count": 22,
   "metadata": {},
   "outputs": [],
   "source": [
    "import numpy as np\n",
    "from selenium.common.exceptions import NoSuchElementException, StaleElementReferenceException\n",
    "from api.helper import NoSimilarCar\n",
    "import pickle\n",
    "\n",
    "## pack everything into a function\n",
    "def generate_generic_archetypes(km=15e3, canton=\"ZH\", verbose=True):\n",
    "    \"\"\"Generate archetype for each vehicle_class x fuel_type combination\n",
    "\n",
    "    Args:\n",
    "        km (int, optional): archetypes' annual mileage (reference). Defaults to 15e3.\n",
    "        canton (str, optional): archetypes' domicile (reference). Defaults to 'AG'.\n",
    "        verbose (bool, optional): neo. Defaults to True.\n",
    "\n",
    "    Returns:\n",
    "        pandas.DataFrame: containing vehicle_class, fuel_type, car_objects, as well as the archetypes (as returned by generate archetype)\n",
    "    \"\"\"\n",
    "    ## generate df of all possible combinations\n",
    "    archs = np.stack(np.meshgrid(Car.vehicle_classes, Car.fuel_types), axis=-1).reshape(\n",
    "        -1, 2\n",
    "    )\n",
    "    df_archs = pd.DataFrame(archs)\n",
    "    df_archs.columns = [\"vehicle_class\", \"fuel_type\"]\n",
    "\n",
    "    df_archs[\"car_objects\"] = df_archs.apply(\n",
    "        lambda row: Car(row[\"vehicle_class\"], row[\"fuel_type\"], fuel_consumption=None),\n",
    "        axis=1,\n",
    "    )\n",
    "\n",
    "    cars = []\n",
    "    for c in df_archs[\"car_objects\"]:\n",
    "        if verbose:\n",
    "            print(\"---\\n{}\\n---\".format(c))\n",
    "        try:\n",
    "            car = tcs.get_cars(\n",
    "                car_object=c,\n",
    "                canton=canton,\n",
    "                km=km,\n",
    "                similar={\"flag\": False},\n",
    "                headless=True,\n",
    "                verbose=verbose,\n",
    "            )\n",
    "        except (NoSimilarCar, NoSuchElementException, StaleElementReferenceException) as e:\n",
    "            logging.warning(\"Exception for {} x {}\".format(c.vehicle_class, c.fuel_type))\n",
    "            car = None\n",
    "        cars.append(car)\n",
    "\n",
    "    ## save\n",
    "    with open(\"../../data/cars\", \"wb\") as fp:\n",
    "        pickle.dump(cars, fp)\n",
    "\n",
    "    generic_archetypes = []\n",
    "    for c in cars:  ## is list of similar cars\n",
    "        if c is None:\n",
    "            generic_archetypes.append(None)\n",
    "            continue\n",
    "        ga = generate_archetype(c)\n",
    "        generic_archetypes.append(ga)\n",
    "\n",
    "    df_archs[\"generic_archetypes\"] = generic_archetypes\n",
    "\n",
    "    return df_archs\n"
   ]
  },
  {
   "cell_type": "code",
   "execution_count": null,
   "metadata": {},
   "outputs": [],
   "source": [
    "generic_archs = generate_generic_archetypes()"
   ]
  },
  {
   "cell_type": "code",
   "execution_count": 23,
   "metadata": {},
   "outputs": [],
   "source": [
    "\"\"\"This cell can be run if you need to construct generic_archetpyes\n",
    "\n",
    "from cell above with hel of data/cars dump...\n",
    "\"\"\"\n",
    "\n",
    "\n",
    "## generate df of all possible combinations\n",
    "archs = np.stack(np.meshgrid(Car.vehicle_classes, Car.fuel_types), axis=-1).reshape(\n",
    "    -1, 2\n",
    ")\n",
    "df_archs = pd.DataFrame(archs)\n",
    "df_archs.columns = [\"vehicle_class\", \"fuel_type\"]\n",
    "\n",
    "df_archs[\"car_objects\"] = df_archs.apply(\n",
    "    lambda row: Car(row[\"vehicle_class\"], row[\"fuel_type\"], fuel_consumption=None),\n",
    "    axis=1,\n",
    ")\n",
    "\n",
    "## save\n",
    "with open(\"../../data/cars\", \"rb\") as fp:\n",
    "    cars = pickle.load(fp)\n",
    "\n",
    "generic_archetypes = []\n",
    "for c in cars:  ## is list of similar cars\n",
    "    if c is None:\n",
    "        generic_archetypes.append(None)\n",
    "        continue\n",
    "    ga = generate_archetype(c)\n",
    "    generic_archetypes.append(ga)\n",
    "\n",
    "df_archs[\"generic_archetypes\"] = generic_archetypes"
   ]
  },
  {
   "cell_type": "code",
   "execution_count": 24,
   "metadata": {},
   "outputs": [],
   "source": [
    "with open(\"../../data/ga\", \"wb\") as fp:\n",
    "    pickle.dump(df_archs, fp)"
   ]
  },
  {
   "cell_type": "code",
   "execution_count": null,
   "metadata": {},
   "outputs": [],
   "source": [
    "with open(\"../../data/generic_archs\", \"wb\") as fp:\n",
    "    pickle.dump(generic_archs, fp)"
   ]
  },
  {
   "cell_type": "markdown",
   "metadata": {},
   "source": [
    "## Remarks\n",
    "- `fuel_consumption` with `fuel_type='electric'` see **Normverbrauch**: https://www.verbrauchskatalog.ch/index.php => higher values and unit kWh/100km"
   ]
  }
 ],
 "metadata": {
  "kernelspec": {
   "display_name": "Python 3.8.10 ('env': venv)",
   "language": "python",
   "name": "python3"
  },
  "language_info": {
   "codemirror_mode": {
    "name": "ipython",
    "version": 3
   },
   "file_extension": ".py",
   "mimetype": "text/x-python",
   "name": "python",
   "nbconvert_exporter": "python",
   "pygments_lexer": "ipython3",
   "version": "3.8.10"
  },
  "orig_nbformat": 4,
  "vscode": {
   "interpreter": {
    "hash": "5bce4c64e37fb9351008a475e2502aa773dae103681da16b4c00026669070906"
   }
  }
 },
 "nbformat": 4,
 "nbformat_minor": 2
}
