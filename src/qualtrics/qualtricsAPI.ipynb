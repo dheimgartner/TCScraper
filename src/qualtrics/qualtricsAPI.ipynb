{
 "cells": [
  {
   "cell_type": "markdown",
   "metadata": {},
   "source": [
    "# Qualtrics integration and pipeline\n",
    "Demonstration of how we will generate archetypes from the *Qualtrics* responses both for the current car as well as for each vintage (i.e. archetype defined by `vehicle_type` and `fuel_type`)"
   ]
  },
  {
   "cell_type": "code",
   "execution_count": null,
   "metadata": {},
   "outputs": [],
   "source": [
    "##### implement logging #####\n",
    "\"https://docs.python.org/3/howto/logging.html\"\n",
    "import logging\n",
    "\n",
    "logging.basicConfig(format='%(asctime)s %(levelname)s %(funcName)s %(message)s', filename='logging.log', level=logging.INFO)"
   ]
  },
  {
   "cell_type": "markdown",
   "metadata": {},
   "source": [
    "## Qualtrics"
   ]
  },
  {
   "cell_type": "code",
   "execution_count": null,
   "metadata": {},
   "outputs": [],
   "source": [
    "import os\n",
    "\n",
    "from QualtricsAPI.Setup import Credentials\n",
    "\n",
    "from QualtricsAPI import Responses\n"
   ]
  },
  {
   "cell_type": "code",
   "execution_count": null,
   "metadata": {},
   "outputs": [],
   "source": [
    "TOKEN = os.environ.get(\"QUALTRICS_API_KEY\")\n",
    "DATA_CENTER = os.environ.get(\"QUALTRICS_BASE_URL\").split(\".\")[0]\n"
   ]
  },
  {
   "cell_type": "code",
   "execution_count": null,
   "metadata": {},
   "outputs": [],
   "source": [
    "Credentials().qualtrics_api_credentials(token=TOKEN, data_center=DATA_CENTER)\n"
   ]
  },
  {
   "cell_type": "code",
   "execution_count": null,
   "metadata": {},
   "outputs": [],
   "source": [
    "r = Responses()\n",
    "survey_id = \"SV_6u4YzY24OAfhWfQ\"\n",
    "df_pre_study = r.get_survey_responses(\"SV_6u4YzY24OAfhWfQ\")\n"
   ]
  },
  {
   "cell_type": "code",
   "execution_count": null,
   "metadata": {},
   "outputs": [],
   "source": [
    "df_pre_study.head()\n"
   ]
  },
  {
   "cell_type": "markdown",
   "metadata": {},
   "source": [
    "## Workflow"
   ]
  },
  {
   "cell_type": "code",
   "execution_count": null,
   "metadata": {},
   "outputs": [],
   "source": [
    "import tcsscraper.scrape as tcs\n",
    "\n",
    "from tcsscraper.helper import Car\n"
   ]
  },
  {
   "cell_type": "code",
   "execution_count": null,
   "metadata": {},
   "outputs": [],
   "source": [
    "Car.vehicle_classes\n"
   ]
  },
  {
   "cell_type": "code",
   "execution_count": null,
   "metadata": {},
   "outputs": [],
   "source": [
    "Car.fuel_types\n"
   ]
  },
  {
   "cell_type": "code",
   "execution_count": null,
   "metadata": {},
   "outputs": [],
   "source": [
    "car = Car(\"Luxusklasse\", \"Benzin\", 10)\n",
    "print(car)\n"
   ]
  },
  {
   "cell_type": "code",
   "execution_count": null,
   "metadata": {},
   "outputs": [],
   "source": [
    "similar_cars = tcs.get_cars(\n",
    "    car, km=20e3, canton=\"ZH\", similar={\"flag\": True, \"buffer\": 1}, verbose=True\n",
    ")\n"
   ]
  },
  {
   "cell_type": "code",
   "execution_count": null,
   "metadata": {},
   "outputs": [],
   "source": [
    "len(similar_cars)\n"
   ]
  },
  {
   "cell_type": "code",
   "execution_count": null,
   "metadata": {},
   "outputs": [],
   "source": [
    "def remove_unit(string):\n",
    "    \"\"\"Removes unit from string like 17'000 CHF/year -> float(17e3)\n",
    "\n",
    "    Args:\n",
    "        string (str): string with unit\n",
    "    \"\"\"\n",
    "    number, unit = string.split(\" \")\n",
    "    number = number.replace(\"'\", \"\")\n",
    "    return float(number)\n"
   ]
  },
  {
   "cell_type": "code",
   "execution_count": null,
   "metadata": {},
   "outputs": [],
   "source": [
    "import pandas as pd\n",
    "\n",
    "\n",
    "def generate_archetype(similar_cars, ndigits=2):\n",
    "    \"\"\"Generates an archetypical car from a list of similar cars\n",
    "\n",
    "    Args:\n",
    "        similar_cars (list of dict): returned by get_cars()\n",
    "        ndigits (int): round average values to\n",
    "    \"\"\"\n",
    "    car_attributes = []\n",
    "    for c in similar_cars:\n",
    "        costs = c[\"costs\"]\n",
    "        attrs = {\n",
    "            \"fix_cost\": remove_unit(costs[\"Fixe Kosten\"]),\n",
    "            \"variable_cost\": remove_unit(costs[\"Variable Kosten\"]),\n",
    "            \"cost_per_km\": remove_unit(costs[\"Kilometerkosten\"]),\n",
    "        }\n",
    "        car_attributes.append(attrs)\n",
    "\n",
    "    car_attributes = pd.DataFrame(car_attributes)\n",
    "\n",
    "    archetype = dict(round(car_attributes.mean(), ndigits=ndigits))\n",
    "\n",
    "    return archetype\n"
   ]
  },
  {
   "cell_type": "code",
   "execution_count": null,
   "metadata": {},
   "outputs": [],
   "source": [
    "archetype = generate_archetype(similar_cars)\n",
    "archetype\n"
   ]
  },
  {
   "cell_type": "markdown",
   "metadata": {},
   "source": [
    "## Pipeline\n",
    "\n",
    "### User specific archetype"
   ]
  },
  {
   "cell_type": "code",
   "execution_count": null,
   "metadata": {},
   "outputs": [],
   "source": [
    "## generate data.frame with variables to feed to get_cars\n",
    "df_qualt = pd.DataFrame(\n",
    "    {\n",
    "        \"vehicle_type\": [\"SUV S\", \"Luxusklasse\", \"Mittelklasse\"],\n",
    "        \"fuel_type\": [\"Elektro\", \"Benzin\", \"Benzin\"],\n",
    "        \"fuel_consumption\": [14, 7, 2],  ## if electric => kWh/100km\n",
    "        \"km\": [15e3, 20e3, 22e3],\n",
    "        \"canton\": [\"VD\", \"AI\", \"ZG\"],\n",
    "    }\n",
    ")\n",
    "\n",
    "df_qualt.head()\n"
   ]
  },
  {
   "cell_type": "code",
   "execution_count": null,
   "metadata": {},
   "outputs": [],
   "source": [
    "def helper(row, max_buffer=5, verbose=True, headless=True):\n",
    "    car = Car(row[\"vehicle_type\"], row[\"fuel_type\"], row[\"fuel_consumption\"])\n",
    "    init = 1\n",
    "    if verbose:\n",
    "        print(\"---\\n{}\\n---\".format(car))\n",
    "    while init < max_buffer + 1:\n",
    "        try:\n",
    "            sc = tcs.get_cars(\n",
    "                car,\n",
    "                row[\"km\"],\n",
    "                row[\"canton\"],\n",
    "                similar={\"flag\": True, \"buffer\": init},\n",
    "                verbose=verbose,\n",
    "                headless=headless\n",
    "            )\n",
    "        except Exception:\n",
    "            init += 1\n",
    "            if verbose:\n",
    "                print(\"increaseing buffer to {}\".format(init))\n",
    "            continue\n",
    "        return sc\n",
    "    return None\n"
   ]
  },
  {
   "cell_type": "code",
   "execution_count": null,
   "metadata": {},
   "outputs": [],
   "source": [
    "df_qualt[\"similar_cars\"] = df_qualt.apply(lambda row: helper(row), axis=1)\n"
   ]
  },
  {
   "cell_type": "code",
   "execution_count": null,
   "metadata": {},
   "outputs": [],
   "source": [
    "## generate archetypes\n",
    "df_qualt[\"archetype\"] = df_qualt.apply(\n",
    "    lambda row: generate_archetype(row[\"similar_cars\"]), axis=1\n",
    ")\n",
    "df_qualt[\"archetype\"]\n"
   ]
  },
  {
   "cell_type": "code",
   "execution_count": null,
   "metadata": {},
   "outputs": [],
   "source": [
    "## unpack stuff\n",
    "df_qualt = df_qualt.assign(\n",
    "    archetype_fix_cost=lambda x: [y[\"fix_cost\"] for y in x[\"archetype\"]],\n",
    "    archetype_variable_cost=lambda x: [y[\"variable_cost\"] for y in x[\"archetype\"]],\n",
    "    archetype_cost_per_km=lambda x: [y[\"cost_per_km\"] for y in x[\"archetype\"]],\n",
    ")\n"
   ]
  },
  {
   "cell_type": "markdown",
   "metadata": {},
   "source": [
    "### Generic archetypes"
   ]
  },
  {
   "cell_type": "code",
   "execution_count": 33,
   "metadata": {},
   "outputs": [],
   "source": [
    "import numpy as np\n",
    "from selenium.common.exceptions import NoSuchElementException, StaleElementReferenceException\n",
    "from tcsscraper.helper import NoSimilarCar\n",
    "import pickle\n",
    "\n",
    "## pack everything into a function\n",
    "def generate_generic_archetypes(km=15e3, canton=\"ZH\", verbose=True):\n",
    "    \"\"\"Generate archetype for each vehicle_class x fuel_type combination\n",
    "\n",
    "    Args:\n",
    "        km (int, optional): archetypes' annual mileage (reference). Defaults to 15e3.\n",
    "        canton (str, optional): archetypes' domicile (reference). Defaults to 'AG'.\n",
    "        verbose (bool, optional): neo. Defaults to True.\n",
    "\n",
    "    Returns:\n",
    "        pandas.DataFrame: containing vehicle_class, fuel_type, car_objects, as well as the archetypes (as returned by generate archetype)\n",
    "    \"\"\"\n",
    "    ## generate df of all possible combinations\n",
    "    archs = np.stack(np.meshgrid(Car.vehicle_classes, Car.fuel_types), axis=-1).reshape(\n",
    "        -1, 2\n",
    "    )\n",
    "    df_archs = pd.DataFrame(archs)\n",
    "    df_archs.columns = [\"vehicle_class\", \"fuel_type\"]\n",
    "\n",
    "    df_archs[\"car_objects\"] = df_archs.apply(\n",
    "        lambda row: Car(row[\"vehicle_class\"], row[\"fuel_type\"], fuel_consumption=None),\n",
    "        axis=1,\n",
    "    )\n",
    "\n",
    "    cars = []\n",
    "    for c in df_archs[\"car_objects\"]:\n",
    "        if verbose:\n",
    "            print(\"---\\n{}\\n---\".format(c))\n",
    "        try:\n",
    "            car = tcs.get_cars(\n",
    "                car_object=c,\n",
    "                canton=canton,\n",
    "                km=km,\n",
    "                similar={\"flag\": False},\n",
    "                headless=True,\n",
    "                verbose=verbose,\n",
    "            )\n",
    "        except (NoSimilarCar, NoSuchElementException, StaleElementReferenceException) as e:\n",
    "            logging.warning(\"Exception for {} x {}\".format(c.vehicle_class, c.fuel_type))\n",
    "            car = None\n",
    "        cars.append(car)\n",
    "\n",
    "    ## save\n",
    "    with open(\"../../data/cars\", \"wb\") as fp:\n",
    "        pickle.dump(cars, fp)\n",
    "\n",
    "    # ## load\n",
    "    # with open(\"../../data/cars\", \"rb\") as fp:\n",
    "    #     cars = pickle.load(fp)\n",
    "\n",
    "    generic_archetypes = []\n",
    "    for c in cars:  ## is list of similar cars\n",
    "        if c is None:\n",
    "            generic_archetypes.append(None)\n",
    "            continue\n",
    "        ga = generate_archetype(c)\n",
    "        generic_archetypes.append(ga)\n",
    "\n",
    "    df_archs[\"generic_archetypes\"] = generic_archetypes\n",
    "\n",
    "    return df_archs\n"
   ]
  },
  {
   "cell_type": "code",
   "execution_count": null,
   "metadata": {},
   "outputs": [],
   "source": [
    "# ## copy from above... to run after cars has been dumped\n",
    "# archs = np.stack(np.meshgrid(Car.vehicle_classes, Car.fuel_types), axis=-1).reshape(\n",
    "#     -1, 2\n",
    "# )\n",
    "# df_archs = pd.DataFrame(archs)\n",
    "# df_archs.columns = [\"vehicle_class\", \"fuel_type\"]\n",
    "\n",
    "# df_archs[\"car_objects\"] = df_archs.apply(\n",
    "#     lambda row: Car(row[\"vehicle_class\"], row[\"fuel_type\"], fuel_consumption=None),\n",
    "#     axis=1,\n",
    "# )\n",
    "\n",
    "# ## load\n",
    "# with open(\"../../data/cars\", \"rb\") as fp:\n",
    "#     cars = pickle.load(fp)\n",
    "\n",
    "# generic_archetypes = []\n",
    "# for c in cars:  ## is list of similar cars\n",
    "#     if c is None:\n",
    "#         generic_archetypes.append(None)\n",
    "#         continue\n",
    "#     ga = generate_archetype(c)\n",
    "#     generic_archetypes.append(ga)\n",
    "\n",
    "# df_archs[\"generic_archetypes\"] = generic_archetypes\n",
    "\n",
    "# with open(\"../../data/df_archs\", \"wb\") as fp:\n",
    "#     pickle.dump(df_archs)"
   ]
  },
  {
   "cell_type": "code",
   "execution_count": 34,
   "metadata": {},
   "outputs": [
    {
     "name": "stdout",
     "output_type": "stream",
     "text": [
      "---\n",
      "vehicle_type:     Mikroklasse\n",
      "fuel_type:        Benzin\n",
      "fuel_consumption: None\n",
      "---\n",
      "Extracted Toyota Aygo 1.0 VVT-i x-play man.\n",
      "Extracted Toyota Aygo 1.0 VVT-i x-play x-shift\n",
      "Extracted Renault Twingo Sce 65 Zen\n",
      "Extracted Hyundai i10 1.0 T-Gdi N-Line\n",
      "Extracted VW Up 1.0 MPI move up!\n",
      "Extracted Kia Picanto 1.0 CVVT Picanto\n",
      "Extracted Kia Picanto 1.0 T-Gdi GT-Line\n",
      "Extracted Kia Picanto 1.0 CVVT First Edition Auto.\n",
      "Extracted Hyundai i10 1.0 Pica\n",
      "Extracted Kia Picanto 1.2 CVVT Power\n",
      "Extracted VW Up 1.0 TSI GTI\n",
      "Extracted Kia Picanto 1.2 CVVT Power Aut.\n",
      "Extracted Hyundai i10 1.2 Amplia\n",
      "Extracted Hyundai i10 1.0 Origo auto.\n",
      "Extracted Hyundai i10 1.2 Amplia Auto.\n",
      "Extracted FIAT Panda 0.9 TwinAir 4x4 Wild\n",
      "Extracted FIAT 500 Abarth 695\n",
      "Extracted FIAT 500 Abarth 695 MTA\n",
      "---\n",
      "vehicle_type:     Kleinwagen\n",
      "fuel_type:        Benzin\n",
      "fuel_consumption: None\n",
      "---\n",
      "Extracted Mitsubishi Space Star 1.2 Pure\n",
      "Extracted Toyota Yaris 1.5 Comfort\n",
      "Extracted Toyota Yaris 1.5 Comfort Multidrive S\n",
      "Extracted Mitsubishi Space Star 1.2 Pure Aut.\n",
      "Extracted Dacia Sandero SCe 65 Essential\n",
      "Extracted Dacia Sandero TCe 90 Essential\n",
      "Extracted Dacia Sandero Stepway TCe 90 Essential\n",
      "Extracted VW Polo 1.0 TSI 110 Comfortline\n",
      "Extracted Peugeot 208 PureTech 130 S&S EAT8 GT\n",
      "Extracted Peugeot 208 PureTech 100 S&S EAT8 Active Pack\n",
      "Extracted Hyundai i20 1.0 T-GDi 100 Pica\n",
      "Extracted Toyota Yaris 1.0 Active\n",
      "Extracted Seat Ibiza 1.0 EcoTSI 110 Style\n",
      "Extracted Audi A1 Allstreet 30 TFSI\n",
      "Extracted Opel Corsa 1.2 Edition\n",
      "Extracted Skoda Fabia 1.0 TSI Ambition 110\n",
      "Extracted Audi A1 30 TFSI\n",
      "Extracted Kia Rio 1.0 T-GDi Power\n",
      "Extracted Kia Rio 1.0 T-GDi Trend Mild-Hybrid\n",
      "Extracted Ford Fiesta 1.1 Trend 3 doors\n",
      "Extracted Ford Fiesta 1.1 Trend 5 doors\n",
      "Extracted Dacia Sandero TCe 110\n",
      "Extracted Hyundai i20 1.0 T-GDi 100 Origo DCT\n",
      "Extracted Opel Corsa 1.2 Edition Autom.\n",
      "Extracted Kia Rio 1.0 T-GDi Power DCT\n",
      "Extracted Peugeot 208 PureTech 100 S&S EAT8 Active Pack\n",
      "Extracted Skoda Fabia 1.0 MPI Active 65\n",
      "Extracted Renault Clio TCe 90 ZEN\n",
      "Extracted Opel Corsa 1.2\n",
      "Extracted Peugeot 208 PureTech 75 S&S Like\n",
      "Extracted Peugeot 208 PureTech 75 S&S Like\n",
      "Extracted Dacia Sandero TCe 90 Comfort\n",
      "Extracted Opel Corsa 1.2 GS Line\n",
      "Extracted VW Polo 1.0 TSI 110 Life DSG\n",
      "Extracted Citroen C3 PureTech 83 S&S Feel\n",
      "Extracted Citroen C3 PureTech 110 S&S Feel Pack\n",
      "Extracted Mini 3 Door One First\n",
      "Extracted Toyota Yaris Cross 1.5 Active\n",
      "Extracted Dacia Sandero TCe 90 Comfort CVT\n",
      "Extracted Dacia Sandero Stepway TCe 90 Comfort CVT\n",
      "Extracted Skoda Fabia 1.0 TSI Ambition 95\n",
      "Extracted Renault Clio Tce 140 Techno\n",
      "Extracted Audi A1 Allstreet 35 TFSI\n",
      "Extracted Skoda Fabia 1.0 MPI Ambition 80\n",
      "Extracted Kia Rio 1.2 CVVT Rio\n",
      "Extracted Mini 5 Door One First\n",
      "Extracted Seat Ibiza 1.0 EcoTSI 110 Style DSG\n",
      "Extracted Audi A1 30 TFSI S tronic\n",
      "Extracted Peugeot 208 PureTech 100 S&S Active Pack\n",
      "Extracted Renault Clio Sce 65 LIFE\n",
      "Extracted Mini 3 Door One\n",
      "Extracted Skoda Fabia 1.0 TSI Ambition 110 DSG\n",
      "Extracted Mini 3 Door One DKG\n",
      "Extracted Mini 5 Door One\n",
      "Extracted VW Polo 1.0 TSI 95 Life\n",
      "Extracted Mini 3 Door Cooper S DKG\n",
      "Extracted Mini 5 Door One DKG\n",
      "Extracted VW Polo 1.0 80 MPI\n",
      "Extracted Citroen C3 PureTech 110 S&S EAT6 Feel Pack\n",
      "Extracted Seat Ibiza 1.0 EcoTSI 95 Reference\n",
      "Extracted Ford Fiesta 1.0 EcoBoost 95 Trend 3 doors\n",
      "Extracted Ford Fiesta 1.0 EcoBoost 95 Trend 5 doors\n",
      "Extracted Renault Clio TCe 90 X-Tronic ZEN\n",
      "Extracted Mini 5 Door Cooper S DKG\n",
      "Extracted Audi A1 Allstreet 30 TFSI\n",
      "Extracted Audi A1 Allstreet 35 TFSI S tronic\n",
      "Extracted Mini 3 Door Cooper S\n",
      "Extracted Audi A1 25 TFSI\n",
      "Extracted VW Polo 1.0 TSI 95 Life DSG\n",
      "Extracted Citroen C3 Aircross PureTech 110 S&S Feel\n",
      "Extracted Mini 3 Door John Cooper Works Steptronic\n",
      "Extracted Mini 5 Door Cooper S\n",
      "Extracted Skoda Fabia 1.5 TSI Style 150 DSG\n",
      "Extracted Citroen C3 Aircross PureTech 130 S&S Swiss Edition EAT6\n",
      "Extracted Ford Fiesta ST 1.5 EcoBoost 200\n",
      "Extracted Audi A1 40 TFSI S tronic\n",
      "Extracted Audi A1 25 TFSI S tronic\n",
      "Extracted Audi A1 35 TFSI S tronic\n",
      "Extracted Seat Ibiza 1.5 EcoTSI FR\n",
      "Extracted Audi A1 Allstreet 30 TFSI S tronic\n",
      "Extracted VW Polo 2.0 OPF GTI\n",
      "Extracted Hyundai i20 N\n",
      "Extracted VW Polo 1.5 TSI EVO ACT Comfortline DSG\n",
      "Extracted Mini 3 Door John Cooper Works\n",
      "---\n",
      "vehicle_type:     Untere Mittelklasse\n",
      "fuel_type:        Benzin\n",
      "fuel_consumption: None\n",
      "---\n",
      "Extracted Seat Leon 1.0 TSI Reference 90\n",
      "Extracted VW Taigo 1.0 TSI OPF Life\n",
      "Extracted Skoda Scala 1.0 TSI 110 Ambition\n",
      "Extracted Citroen C4 PureTech 130 S&S Feel\n",
      "Extracted Honda Civic 1.0 VTEC S\n",
      "Extracted Seat Leon 1.0 TSI Reference\n",
      "Extracted FIAT Tipo SW 1.0 T3 Tipo\n",
      "Extracted FIAT Tipo 1.0 T3 Tipo\n",
      "Extracted VW Taigo 1.0 TSI OPF Life\n",
      "Extracted Seat Leon 1.5 TSI Style 130\n",
      "Extracted VW Golf 1.0 TSI OPF Life\n",
      "Extracted VW Golf Variant 1.0 TSI OPF Life\n",
      "Extracted VW Golf 1.5 TSI OPF Life\n",
      "Extracted VW Golf Variant 1.5 TSI OPF 130 Life\n",
      "Extracted Skoda Scala 1.5 TSI 150 Ambition\n",
      "Extracted Renault Megane Grandtour TCe 115 Zen\n",
      "Extracted Seat Leon 1.5 TSI Style 150\n",
      "Extracted Audi A3 Lim 35 TFSI\n",
      "Extracted Audi A3 Sportback 35 TFSI\n",
      "Extracted VW Golf 1.5 TSI OPF Style\n",
      "Extracted VW Golf Variant 1.5 TSI OPF 150 Style\n",
      "Extracted Peugeot 308 SW Pure Tech 130 Active Pack\n",
      "Extracted Citroen C4 PureTech 100 S&S Live Pack\n",
      "Extracted Kia Ceed 1.5 T-GDi DCT Power\n",
      "Extracted Kia Ceed SW 1.5 T-GDi DCT Power\n",
      "Extracted VW Taigo 1.0 TSI OPF Life DSG\n",
      "Extracted BMW 1 5-door 118i\n",
      "Extracted BMW 1 5-door 120i Steptronic\n",
      "Extracted Mini Clubman One\n",
      "Extracted Mini Clubman Cooper\n",
      "Extracted Mini Clubman Cooper Steptronic\n",
      "Extracted Opel Astra 1.2 Lim Swiss\n",
      "Extracted Peugeot 308 Pure Tech 130 EAT8 Active Pack\n",
      "Extracted Peugeot 308 SW Pure Tech 130 EAT8 Active Pack\n",
      "Extracted VW Taigo 1.5 TSI OPF Style DSG\n",
      "Extracted Renault Megane Tce 140 Techno\n",
      "Extracted Renault Megane Tce 160 R.S. Line EDC\n",
      "Extracted Renault Megane Grandtour TCe 140 Techno\n",
      "Extracted Renault Megane Grandtour TCe 160 R.S. Line EDC\n",
      "Extracted Kia Ceed 1.5 T-Gdi Power\n",
      "Extracted Kia Ceed SW 1.5 T-Gdi Power\n",
      "Extracted Skoda Scala 1.5 TSI 150 Ambition DSG\n"
     ]
    },
    {
     "ename": "NoSuchElementException",
     "evalue": "Message: Unable to locate element: select\n",
     "output_type": "error",
     "traceback": [
      "\u001b[0;31m---------------------------------------------------------------------------\u001b[0m",
      "\u001b[0;31mNoSuchElementException\u001b[0m                    Traceback (most recent call last)",
      "Cell \u001b[0;32mIn [34], line 1\u001b[0m\n\u001b[0;32m----> 1\u001b[0m generic_archs \u001b[39m=\u001b[39m generate_generic_archetypes()\n",
      "Cell \u001b[0;32mIn [33], line 45\u001b[0m, in \u001b[0;36mgenerate_generic_archetypes\u001b[0;34m(km, canton, verbose)\u001b[0m\n\u001b[1;32m     43\u001b[0m \u001b[39mexcept\u001b[39;00m (NoSimilarCar, NoSuchElementException, StaleElementReferenceException) \u001b[39mas\u001b[39;00m e:\n\u001b[1;32m     44\u001b[0m     logging\u001b[39m.\u001b[39mwarning(\u001b[39m\"\u001b[39m\u001b[39mException for \u001b[39m\u001b[39m{}\u001b[39;00m\u001b[39m x \u001b[39m\u001b[39m{}\u001b[39;00m\u001b[39m\"\u001b[39m\u001b[39m.\u001b[39mformat(c\u001b[39m.\u001b[39mvehicle_class, c\u001b[39m.\u001b[39mfuel_type))\n\u001b[0;32m---> 45\u001b[0m     \u001b[39mraise\u001b[39;00m e  \u001b[39m## to be removed\u001b[39;00m\n\u001b[1;32m     46\u001b[0m     car \u001b[39m=\u001b[39m \u001b[39mNone\u001b[39;00m\n\u001b[1;32m     47\u001b[0m cars\u001b[39m.\u001b[39mappend(car)\n",
      "Cell \u001b[0;32mIn [33], line 35\u001b[0m, in \u001b[0;36mgenerate_generic_archetypes\u001b[0;34m(km, canton, verbose)\u001b[0m\n\u001b[1;32m     33\u001b[0m     \u001b[39mprint\u001b[39m(\u001b[39m\"\u001b[39m\u001b[39m---\u001b[39m\u001b[39m\\n\u001b[39;00m\u001b[39m{}\u001b[39;00m\u001b[39m\\n\u001b[39;00m\u001b[39m---\u001b[39m\u001b[39m\"\u001b[39m\u001b[39m.\u001b[39mformat(c))\n\u001b[1;32m     34\u001b[0m \u001b[39mtry\u001b[39;00m:\n\u001b[0;32m---> 35\u001b[0m     car \u001b[39m=\u001b[39m tcs\u001b[39m.\u001b[39;49mget_cars(\n\u001b[1;32m     36\u001b[0m         car_object\u001b[39m=\u001b[39;49mc,\n\u001b[1;32m     37\u001b[0m         canton\u001b[39m=\u001b[39;49mcanton,\n\u001b[1;32m     38\u001b[0m         km\u001b[39m=\u001b[39;49mkm,\n\u001b[1;32m     39\u001b[0m         similar\u001b[39m=\u001b[39;49m{\u001b[39m\"\u001b[39;49m\u001b[39mflag\u001b[39;49m\u001b[39m\"\u001b[39;49m: \u001b[39mFalse\u001b[39;49;00m},\n\u001b[1;32m     40\u001b[0m         headless\u001b[39m=\u001b[39;49m\u001b[39mTrue\u001b[39;49;00m,\n\u001b[1;32m     41\u001b[0m         verbose\u001b[39m=\u001b[39;49mverbose,\n\u001b[1;32m     42\u001b[0m     )\n\u001b[1;32m     43\u001b[0m \u001b[39mexcept\u001b[39;00m (NoSimilarCar, NoSuchElementException, StaleElementReferenceException) \u001b[39mas\u001b[39;00m e:\n\u001b[1;32m     44\u001b[0m     logging\u001b[39m.\u001b[39mwarning(\u001b[39m\"\u001b[39m\u001b[39mException for \u001b[39m\u001b[39m{}\u001b[39;00m\u001b[39m x \u001b[39m\u001b[39m{}\u001b[39;00m\u001b[39m\"\u001b[39m\u001b[39m.\u001b[39mformat(c\u001b[39m.\u001b[39mvehicle_class, c\u001b[39m.\u001b[39mfuel_type))\n",
      "File \u001b[0;32m~/github/SNN/tcsscraper/src/tcsscraper/scrape.py:246\u001b[0m, in \u001b[0;36mget_cars\u001b[0;34m(car_object, km, canton, similar, headless, verbose)\u001b[0m\n\u001b[1;32m    244\u001b[0m     logging\u001b[39m.\u001b[39mwarning(\u001b[39m\"\u001b[39m\u001b[39mException occured: could not get cars\u001b[39m\u001b[39m\"\u001b[39m)\n\u001b[1;32m    245\u001b[0m     driver\u001b[39m.\u001b[39mquit()\n\u001b[0;32m--> 246\u001b[0m     \u001b[39mraise\u001b[39;00m e\n\u001b[1;32m    248\u001b[0m driver\u001b[39m.\u001b[39mquit()\n\u001b[1;32m    249\u001b[0m \u001b[39mreturn\u001b[39;00m content\n",
      "File \u001b[0;32m~/github/SNN/tcsscraper/src/tcsscraper/scrape.py:241\u001b[0m, in \u001b[0;36mget_cars\u001b[0;34m(car_object, km, canton, similar, headless, verbose)\u001b[0m\n\u001b[1;32m    236\u001b[0m         logging\u001b[39m.\u001b[39minfo(\u001b[39m\"\u001b[39m\u001b[39mNo relevant cars found\u001b[39m\u001b[39m\"\u001b[39m)\n\u001b[1;32m    237\u001b[0m         \u001b[39mraise\u001b[39;00m NoSimilarCar(\n\u001b[1;32m    238\u001b[0m             \u001b[39m\"\u001b[39m\u001b[39mNo similar cars found. A missmatch between model and consumption? Consider increasing buffer.\u001b[39m\u001b[39m\"\u001b[39m\n\u001b[1;32m    239\u001b[0m         )\n\u001b[0;32m--> 241\u001b[0m     content \u001b[39m=\u001b[39m scrape_cars(driver, relevant_cars, km, canton, verbose\u001b[39m=\u001b[39;49mverbose)\n\u001b[1;32m    243\u001b[0m \u001b[39mexcept\u001b[39;00m \u001b[39mException\u001b[39;00m \u001b[39mas\u001b[39;00m e:\n\u001b[1;32m    244\u001b[0m     logging\u001b[39m.\u001b[39mwarning(\u001b[39m\"\u001b[39m\u001b[39mException occured: could not get cars\u001b[39m\u001b[39m\"\u001b[39m)\n",
      "File \u001b[0;32m~/github/SNN/tcsscraper/src/tcsscraper/scrape.py:146\u001b[0m, in \u001b[0;36mscrape_cars\u001b[0;34m(driver, cars, km, canton, verbose)\u001b[0m\n\u001b[1;32m    144\u001b[0m content \u001b[39m=\u001b[39m []\n\u001b[1;32m    145\u001b[0m \u001b[39mfor\u001b[39;00m c \u001b[39min\u001b[39;00m cars:\n\u001b[0;32m--> 146\u001b[0m     car \u001b[39m=\u001b[39m scrape_one_car(driver, c, km, canton, verbose\u001b[39m=\u001b[39;49mverbose)\n\u001b[1;32m    147\u001b[0m     content\u001b[39m.\u001b[39mappend(car)\n\u001b[1;32m    148\u001b[0m \u001b[39mreturn\u001b[39;00m content\n",
      "File \u001b[0;32m~/github/SNN/tcsscraper/src/tcsscraper/scrape.py:84\u001b[0m, in \u001b[0;36mscrape_one_car\u001b[0;34m(driver, car, km, canton, verbose)\u001b[0m\n\u001b[1;32m     81\u001b[0m xpath \u001b[39m=\u001b[39m \u001b[39m\"\u001b[39m\u001b[39m//div[@id=\u001b[39m\u001b[39m'\u001b[39m\u001b[39mlightbox-content\u001b[39m\u001b[39m'\u001b[39m\u001b[39m]\u001b[39m\u001b[39m\"\u001b[39m\n\u001b[1;32m     83\u001b[0m box \u001b[39m=\u001b[39m wait_variable\u001b[39m.\u001b[39muntil(\u001b[39mlambda\u001b[39;00m d: d\u001b[39m.\u001b[39mfind_element(By\u001b[39m.\u001b[39mXPATH, xpath))\n\u001b[0;32m---> 84\u001b[0m select_element \u001b[39m=\u001b[39m box\u001b[39m.\u001b[39;49mfind_element(By\u001b[39m.\u001b[39;49mCSS_SELECTOR, \u001b[39m\"\u001b[39;49m\u001b[39mselect\u001b[39;49m\u001b[39m\"\u001b[39;49m)\n\u001b[1;32m     85\u001b[0m canton_dropdown \u001b[39m=\u001b[39m Select(select_element)\n\u001b[1;32m     86\u001b[0m canton_dropdown\u001b[39m.\u001b[39mselect_by_visible_text(canton)\n",
      "File \u001b[0;32m~/github/SNN/tcsscraper/env/lib/python3.8/site-packages/selenium/webdriver/remote/webelement.py:658\u001b[0m, in \u001b[0;36mWebElement.find_element\u001b[0;34m(self, by, value)\u001b[0m\n\u001b[1;32m    655\u001b[0m         by \u001b[39m=\u001b[39m By\u001b[39m.\u001b[39mCSS_SELECTOR\n\u001b[1;32m    656\u001b[0m         value \u001b[39m=\u001b[39m \u001b[39m'\u001b[39m\u001b[39m[name=\u001b[39m\u001b[39m\"\u001b[39m\u001b[39m%s\u001b[39;00m\u001b[39m\"\u001b[39m\u001b[39m]\u001b[39m\u001b[39m'\u001b[39m \u001b[39m%\u001b[39m value\n\u001b[0;32m--> 658\u001b[0m \u001b[39mreturn\u001b[39;00m \u001b[39mself\u001b[39;49m\u001b[39m.\u001b[39;49m_execute(Command\u001b[39m.\u001b[39;49mFIND_CHILD_ELEMENT,\n\u001b[1;32m    659\u001b[0m                      {\u001b[39m\"\u001b[39;49m\u001b[39musing\u001b[39;49m\u001b[39m\"\u001b[39;49m: by, \u001b[39m\"\u001b[39;49m\u001b[39mvalue\u001b[39;49m\u001b[39m\"\u001b[39;49m: value})[\u001b[39m'\u001b[39m\u001b[39mvalue\u001b[39m\u001b[39m'\u001b[39m]\n",
      "File \u001b[0;32m~/github/SNN/tcsscraper/env/lib/python3.8/site-packages/selenium/webdriver/remote/webelement.py:633\u001b[0m, in \u001b[0;36mWebElement._execute\u001b[0;34m(self, command, params)\u001b[0m\n\u001b[1;32m    631\u001b[0m     params \u001b[39m=\u001b[39m {}\n\u001b[1;32m    632\u001b[0m params[\u001b[39m'\u001b[39m\u001b[39mid\u001b[39m\u001b[39m'\u001b[39m] \u001b[39m=\u001b[39m \u001b[39mself\u001b[39m\u001b[39m.\u001b[39m_id\n\u001b[0;32m--> 633\u001b[0m \u001b[39mreturn\u001b[39;00m \u001b[39mself\u001b[39;49m\u001b[39m.\u001b[39;49m_parent\u001b[39m.\u001b[39;49mexecute(command, params)\n",
      "File \u001b[0;32m~/github/SNN/tcsscraper/env/lib/python3.8/site-packages/selenium/webdriver/remote/webdriver.py:321\u001b[0m, in \u001b[0;36mWebDriver.execute\u001b[0;34m(self, driver_command, params)\u001b[0m\n\u001b[1;32m    319\u001b[0m response \u001b[39m=\u001b[39m \u001b[39mself\u001b[39m\u001b[39m.\u001b[39mcommand_executor\u001b[39m.\u001b[39mexecute(driver_command, params)\n\u001b[1;32m    320\u001b[0m \u001b[39mif\u001b[39;00m response:\n\u001b[0;32m--> 321\u001b[0m     \u001b[39mself\u001b[39;49m\u001b[39m.\u001b[39;49merror_handler\u001b[39m.\u001b[39;49mcheck_response(response)\n\u001b[1;32m    322\u001b[0m     response[\u001b[39m'\u001b[39m\u001b[39mvalue\u001b[39m\u001b[39m'\u001b[39m] \u001b[39m=\u001b[39m \u001b[39mself\u001b[39m\u001b[39m.\u001b[39m_unwrap_value(\n\u001b[1;32m    323\u001b[0m         response\u001b[39m.\u001b[39mget(\u001b[39m'\u001b[39m\u001b[39mvalue\u001b[39m\u001b[39m'\u001b[39m, \u001b[39mNone\u001b[39;00m))\n\u001b[1;32m    324\u001b[0m     \u001b[39mreturn\u001b[39;00m response\n",
      "File \u001b[0;32m~/github/SNN/tcsscraper/env/lib/python3.8/site-packages/selenium/webdriver/remote/errorhandler.py:242\u001b[0m, in \u001b[0;36mErrorHandler.check_response\u001b[0;34m(self, response)\u001b[0m\n\u001b[1;32m    240\u001b[0m         alert_text \u001b[39m=\u001b[39m value[\u001b[39m'\u001b[39m\u001b[39malert\u001b[39m\u001b[39m'\u001b[39m]\u001b[39m.\u001b[39mget(\u001b[39m'\u001b[39m\u001b[39mtext\u001b[39m\u001b[39m'\u001b[39m)\n\u001b[1;32m    241\u001b[0m     \u001b[39mraise\u001b[39;00m exception_class(message, screen, stacktrace, alert_text)\n\u001b[0;32m--> 242\u001b[0m \u001b[39mraise\u001b[39;00m exception_class(message, screen, stacktrace)\n",
      "\u001b[0;31mNoSuchElementException\u001b[0m: Message: Unable to locate element: select\n"
     ]
    }
   ],
   "source": [
    "generic_archs = generate_generic_archetypes()"
   ]
  },
  {
   "cell_type": "markdown",
   "metadata": {},
   "source": [
    "## Remarks\n",
    "- `fuel_consumption` with `fuel_type='electric'` see **Normverbrauch**: https://www.verbrauchskatalog.ch/index.php => higher values and unit kWh/100km"
   ]
  }
 ],
 "metadata": {
  "kernelspec": {
   "display_name": "Python 3.8.10 ('env': venv)",
   "language": "python",
   "name": "python3"
  },
  "language_info": {
   "codemirror_mode": {
    "name": "ipython",
    "version": 3
   },
   "file_extension": ".py",
   "mimetype": "text/x-python",
   "name": "python",
   "nbconvert_exporter": "python",
   "pygments_lexer": "ipython3",
   "version": "3.8.10"
  },
  "orig_nbformat": 4,
  "vscode": {
   "interpreter": {
    "hash": "5bce4c64e37fb9351008a475e2502aa773dae103681da16b4c00026669070906"
   }
  }
 },
 "nbformat": 4,
 "nbformat_minor": 2
}
