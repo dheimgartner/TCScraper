{
 "cells": [
  {
   "cell_type": "markdown",
   "metadata": {},
   "source": [
    "# Qualtrics integration and pipeline\n",
    "Demonstration of how we will generate archetypes from the *Qualtrics* responses both for the current car as well as for each vintage (i.e. archetype defined by `vehicle_type` and `fuel_type`)"
   ]
  },
  {
   "cell_type": "markdown",
   "metadata": {},
   "source": [
    "## Qualtrics"
   ]
  },
  {
   "cell_type": "code",
   "execution_count": 1,
   "metadata": {},
   "outputs": [],
   "source": [
    "import os\n",
    "\n",
    "from QualtricsAPI.Setup import Credentials\n",
    "\n",
    "from QualtricsAPI import Responses"
   ]
  },
  {
   "cell_type": "code",
   "execution_count": 2,
   "metadata": {},
   "outputs": [],
   "source": [
    "TOKEN = os.environ.get('QUALTRICS_API_KEY')\n",
    "DATA_CENTER = os.environ.get('QUALTRICS_BASE_URL').split('.')[0]"
   ]
  },
  {
   "cell_type": "code",
   "execution_count": 3,
   "metadata": {},
   "outputs": [],
   "source": [
    "Credentials().qualtrics_api_credentials(token=TOKEN, data_center=DATA_CENTER)"
   ]
  },
  {
   "cell_type": "code",
   "execution_count": 4,
   "metadata": {},
   "outputs": [],
   "source": [
    "r = Responses()\n",
    "survey_id = 'SV_6u4YzY24OAfhWfQ'\n",
    "df_pre_study = r.get_survey_responses('SV_6u4YzY24OAfhWfQ')"
   ]
  },
  {
   "cell_type": "code",
   "execution_count": 5,
   "metadata": {},
   "outputs": [
    {
     "data": {
      "text/html": [
       "<div>\n",
       "<style scoped>\n",
       "    .dataframe tbody tr th:only-of-type {\n",
       "        vertical-align: middle;\n",
       "    }\n",
       "\n",
       "    .dataframe tbody tr th {\n",
       "        vertical-align: top;\n",
       "    }\n",
       "\n",
       "    .dataframe thead th {\n",
       "        text-align: right;\n",
       "    }\n",
       "</style>\n",
       "<table border=\"1\" class=\"dataframe\">\n",
       "  <thead>\n",
       "    <tr style=\"text-align: right;\">\n",
       "      <th></th>\n",
       "      <th>StartDate</th>\n",
       "      <th>EndDate</th>\n",
       "      <th>Status</th>\n",
       "      <th>IPAddress</th>\n",
       "      <th>Progress</th>\n",
       "      <th>Duration (in seconds)</th>\n",
       "      <th>Finished</th>\n",
       "      <th>RecordedDate</th>\n",
       "      <th>ResponseId</th>\n",
       "      <th>RecipientLastName</th>\n",
       "      <th>...</th>\n",
       "      <th>pers_characs_worries</th>\n",
       "      <th>pers_characs_forgiving</th>\n",
       "      <th>pers_characs_lazy</th>\n",
       "      <th>pers_characs_open</th>\n",
       "      <th>pers_characs_nervous</th>\n",
       "      <th>pers_characs_efficient</th>\n",
       "      <th>pers_characs_reserved</th>\n",
       "      <th>pers_characs_considerate</th>\n",
       "      <th>pers_characs_imaginative</th>\n",
       "      <th>pers_characs_relaxed</th>\n",
       "    </tr>\n",
       "  </thead>\n",
       "  <tbody>\n",
       "    <tr>\n",
       "      <th>0</th>\n",
       "      <td>Anfangsdatum</td>\n",
       "      <td>Enddatum</td>\n",
       "      <td>Antworttyp</td>\n",
       "      <td>IP-Adresse</td>\n",
       "      <td>Aktueller Stand</td>\n",
       "      <td>Dauer (in Sekunden)</td>\n",
       "      <td>Beendet</td>\n",
       "      <td>Erfassungsdatum</td>\n",
       "      <td>Antwort-ID</td>\n",
       "      <td>Nachname des Empfängers</td>\n",
       "      <td>...</td>\n",
       "      <td>Bitte geben Sie jeweils an, wie stark die folg...</td>\n",
       "      <td>Bitte geben Sie jeweils an, wie stark die folg...</td>\n",
       "      <td>Bitte geben Sie jeweils an, wie stark die folg...</td>\n",
       "      <td>Bitte geben Sie jeweils an, wie stark die folg...</td>\n",
       "      <td>Bitte geben Sie jeweils an, wie stark die folg...</td>\n",
       "      <td>Bitte geben Sie jeweils an, wie stark die folg...</td>\n",
       "      <td>Bitte geben Sie jeweils an, wie stark die folg...</td>\n",
       "      <td>Bitte geben Sie jeweils an, wie stark die folg...</td>\n",
       "      <td>Bitte geben Sie jeweils an, wie stark die folg...</td>\n",
       "      <td>Bitte geben Sie jeweils an, wie stark die folg...</td>\n",
       "    </tr>\n",
       "    <tr>\n",
       "      <th>1</th>\n",
       "      <td>{\"ImportId\":\"startDate\",\"timeZone\":\"Z\"}</td>\n",
       "      <td>{\"ImportId\":\"endDate\",\"timeZone\":\"Z\"}</td>\n",
       "      <td>{\"ImportId\":\"status\"}</td>\n",
       "      <td>{\"ImportId\":\"ipAddress\"}</td>\n",
       "      <td>{\"ImportId\":\"progress\"}</td>\n",
       "      <td>{\"ImportId\":\"duration\"}</td>\n",
       "      <td>{\"ImportId\":\"finished\"}</td>\n",
       "      <td>{\"ImportId\":\"recordedDate\",\"timeZone\":\"Z\"}</td>\n",
       "      <td>{\"ImportId\":\"_recordId\"}</td>\n",
       "      <td>{\"ImportId\":\"recipientLastName\"}</td>\n",
       "      <td>...</td>\n",
       "      <td>{\"ImportId\":\"QID168_7\"}</td>\n",
       "      <td>{\"ImportId\":\"QID168_8\"}</td>\n",
       "      <td>{\"ImportId\":\"QID168_9\"}</td>\n",
       "      <td>{\"ImportId\":\"QID168_10\"}</td>\n",
       "      <td>{\"ImportId\":\"QID168_12\"}</td>\n",
       "      <td>{\"ImportId\":\"QID168_13\"}</td>\n",
       "      <td>{\"ImportId\":\"QID168_14\"}</td>\n",
       "      <td>{\"ImportId\":\"QID168_15\"}</td>\n",
       "      <td>{\"ImportId\":\"QID168_16\"}</td>\n",
       "      <td>{\"ImportId\":\"QID168_17\"}</td>\n",
       "    </tr>\n",
       "    <tr>\n",
       "      <th>2</th>\n",
       "      <td>2022-05-11 06:42:17</td>\n",
       "      <td>2022-05-11 06:59:46</td>\n",
       "      <td>0</td>\n",
       "      <td>194.165.44.169</td>\n",
       "      <td>100</td>\n",
       "      <td>1048</td>\n",
       "      <td>1</td>\n",
       "      <td>2022-05-11 06:59:48</td>\n",
       "      <td>R_3qe7fVb9Ma5yEyO</td>\n",
       "      <td>Bos</td>\n",
       "      <td>...</td>\n",
       "      <td>4</td>\n",
       "      <td>4</td>\n",
       "      <td>2</td>\n",
       "      <td>3</td>\n",
       "      <td>4</td>\n",
       "      <td>4</td>\n",
       "      <td>4</td>\n",
       "      <td>4</td>\n",
       "      <td>4</td>\n",
       "      <td>3</td>\n",
       "    </tr>\n",
       "    <tr>\n",
       "      <th>3</th>\n",
       "      <td>2022-05-11 06:05:01</td>\n",
       "      <td>2022-05-11 07:08:18</td>\n",
       "      <td>0</td>\n",
       "      <td>165.225.95.4</td>\n",
       "      <td>100</td>\n",
       "      <td>3797</td>\n",
       "      <td>1</td>\n",
       "      <td>2022-05-11 07:08:20</td>\n",
       "      <td>R_ZepQebZSlABxEsh</td>\n",
       "      <td>Bauer</td>\n",
       "      <td>...</td>\n",
       "      <td>2</td>\n",
       "      <td>3</td>\n",
       "      <td>2</td>\n",
       "      <td>4</td>\n",
       "      <td>2</td>\n",
       "      <td>4</td>\n",
       "      <td>3</td>\n",
       "      <td>4</td>\n",
       "      <td>4</td>\n",
       "      <td>2</td>\n",
       "    </tr>\n",
       "    <tr>\n",
       "      <th>4</th>\n",
       "      <td>2022-05-11 06:44:12</td>\n",
       "      <td>2022-05-11 07:16:31</td>\n",
       "      <td>0</td>\n",
       "      <td>31.10.155.126</td>\n",
       "      <td>100</td>\n",
       "      <td>1938</td>\n",
       "      <td>1</td>\n",
       "      <td>2022-05-11 07:16:32</td>\n",
       "      <td>R_2RacLJHZCDJ7J61</td>\n",
       "      <td>Bissig</td>\n",
       "      <td>...</td>\n",
       "      <td>3</td>\n",
       "      <td>2</td>\n",
       "      <td>1</td>\n",
       "      <td>4</td>\n",
       "      <td>3</td>\n",
       "      <td>4</td>\n",
       "      <td>2</td>\n",
       "      <td>4</td>\n",
       "      <td>4</td>\n",
       "      <td>3</td>\n",
       "    </tr>\n",
       "  </tbody>\n",
       "</table>\n",
       "<p>5 rows × 214 columns</p>\n",
       "</div>"
      ],
      "text/plain": [
       "                                 StartDate  \\\n",
       "0                             Anfangsdatum   \n",
       "1  {\"ImportId\":\"startDate\",\"timeZone\":\"Z\"}   \n",
       "2                      2022-05-11 06:42:17   \n",
       "3                      2022-05-11 06:05:01   \n",
       "4                      2022-05-11 06:44:12   \n",
       "\n",
       "                                 EndDate                 Status  \\\n",
       "0                               Enddatum             Antworttyp   \n",
       "1  {\"ImportId\":\"endDate\",\"timeZone\":\"Z\"}  {\"ImportId\":\"status\"}   \n",
       "2                    2022-05-11 06:59:46                      0   \n",
       "3                    2022-05-11 07:08:18                      0   \n",
       "4                    2022-05-11 07:16:31                      0   \n",
       "\n",
       "                  IPAddress                 Progress    Duration (in seconds)  \\\n",
       "0                IP-Adresse          Aktueller Stand      Dauer (in Sekunden)   \n",
       "1  {\"ImportId\":\"ipAddress\"}  {\"ImportId\":\"progress\"}  {\"ImportId\":\"duration\"}   \n",
       "2            194.165.44.169                      100                     1048   \n",
       "3              165.225.95.4                      100                     3797   \n",
       "4             31.10.155.126                      100                     1938   \n",
       "\n",
       "                  Finished                                RecordedDate  \\\n",
       "0                  Beendet                             Erfassungsdatum   \n",
       "1  {\"ImportId\":\"finished\"}  {\"ImportId\":\"recordedDate\",\"timeZone\":\"Z\"}   \n",
       "2                        1                         2022-05-11 06:59:48   \n",
       "3                        1                         2022-05-11 07:08:20   \n",
       "4                        1                         2022-05-11 07:16:32   \n",
       "\n",
       "                 ResponseId                 RecipientLastName  ...  \\\n",
       "0                Antwort-ID           Nachname des Empfängers  ...   \n",
       "1  {\"ImportId\":\"_recordId\"}  {\"ImportId\":\"recipientLastName\"}  ...   \n",
       "2         R_3qe7fVb9Ma5yEyO                               Bos  ...   \n",
       "3         R_ZepQebZSlABxEsh                             Bauer  ...   \n",
       "4         R_2RacLJHZCDJ7J61                            Bissig  ...   \n",
       "\n",
       "                                pers_characs_worries  \\\n",
       "0  Bitte geben Sie jeweils an, wie stark die folg...   \n",
       "1                            {\"ImportId\":\"QID168_7\"}   \n",
       "2                                                  4   \n",
       "3                                                  2   \n",
       "4                                                  3   \n",
       "\n",
       "                              pers_characs_forgiving  \\\n",
       "0  Bitte geben Sie jeweils an, wie stark die folg...   \n",
       "1                            {\"ImportId\":\"QID168_8\"}   \n",
       "2                                                  4   \n",
       "3                                                  3   \n",
       "4                                                  2   \n",
       "\n",
       "                                   pers_characs_lazy  \\\n",
       "0  Bitte geben Sie jeweils an, wie stark die folg...   \n",
       "1                            {\"ImportId\":\"QID168_9\"}   \n",
       "2                                                  2   \n",
       "3                                                  2   \n",
       "4                                                  1   \n",
       "\n",
       "                                   pers_characs_open  \\\n",
       "0  Bitte geben Sie jeweils an, wie stark die folg...   \n",
       "1                           {\"ImportId\":\"QID168_10\"}   \n",
       "2                                                  3   \n",
       "3                                                  4   \n",
       "4                                                  4   \n",
       "\n",
       "                                pers_characs_nervous  \\\n",
       "0  Bitte geben Sie jeweils an, wie stark die folg...   \n",
       "1                           {\"ImportId\":\"QID168_12\"}   \n",
       "2                                                  4   \n",
       "3                                                  2   \n",
       "4                                                  3   \n",
       "\n",
       "                              pers_characs_efficient  \\\n",
       "0  Bitte geben Sie jeweils an, wie stark die folg...   \n",
       "1                           {\"ImportId\":\"QID168_13\"}   \n",
       "2                                                  4   \n",
       "3                                                  4   \n",
       "4                                                  4   \n",
       "\n",
       "                               pers_characs_reserved  \\\n",
       "0  Bitte geben Sie jeweils an, wie stark die folg...   \n",
       "1                           {\"ImportId\":\"QID168_14\"}   \n",
       "2                                                  4   \n",
       "3                                                  3   \n",
       "4                                                  2   \n",
       "\n",
       "                            pers_characs_considerate  \\\n",
       "0  Bitte geben Sie jeweils an, wie stark die folg...   \n",
       "1                           {\"ImportId\":\"QID168_15\"}   \n",
       "2                                                  4   \n",
       "3                                                  4   \n",
       "4                                                  4   \n",
       "\n",
       "                            pers_characs_imaginative  \\\n",
       "0  Bitte geben Sie jeweils an, wie stark die folg...   \n",
       "1                           {\"ImportId\":\"QID168_16\"}   \n",
       "2                                                  4   \n",
       "3                                                  4   \n",
       "4                                                  4   \n",
       "\n",
       "                                pers_characs_relaxed  \n",
       "0  Bitte geben Sie jeweils an, wie stark die folg...  \n",
       "1                           {\"ImportId\":\"QID168_17\"}  \n",
       "2                                                  3  \n",
       "3                                                  2  \n",
       "4                                                  3  \n",
       "\n",
       "[5 rows x 214 columns]"
      ]
     },
     "execution_count": 5,
     "metadata": {},
     "output_type": "execute_result"
    }
   ],
   "source": [
    "df_pre_study.head()"
   ]
  },
  {
   "cell_type": "markdown",
   "metadata": {},
   "source": [
    "## Workflow"
   ]
  },
  {
   "cell_type": "code",
   "execution_count": 1,
   "metadata": {},
   "outputs": [],
   "source": [
    "import tcsscraper.scrape as tcs\n",
    "\n",
    "from tcsscraper.helper import Car"
   ]
  },
  {
   "cell_type": "code",
   "execution_count": 7,
   "metadata": {},
   "outputs": [
    {
     "data": {
      "text/plain": [
       "['Mikroklasse',\n",
       " 'Kleinwagen',\n",
       " 'Untere Mittelklasse',\n",
       " 'Mittelklasse',\n",
       " 'Obere Mittelklasse',\n",
       " 'Luxusklasse',\n",
       " 'Coupé / Sportwagen',\n",
       " 'Cabriolet / Roadster',\n",
       " 'SUV S',\n",
       " 'SUV M',\n",
       " 'SUV L',\n",
       " 'SUV XL',\n",
       " 'Minivan S',\n",
       " 'Minivan M',\n",
       " 'Minivan L']"
      ]
     },
     "execution_count": 7,
     "metadata": {},
     "output_type": "execute_result"
    }
   ],
   "source": [
    "Car.vehicle_classes"
   ]
  },
  {
   "cell_type": "code",
   "execution_count": 8,
   "metadata": {},
   "outputs": [
    {
     "data": {
      "text/plain": [
       "['Benzin',\n",
       " 'Diesel',\n",
       " 'Hybrid Benzin',\n",
       " 'Hybrid Diesel',\n",
       " 'Erdgas (CNG)',\n",
       " 'Elektro',\n",
       " 'Elektro mit Range Extender',\n",
       " 'Plug-in Hybrid Benzin',\n",
       " 'Plug-in Hybrid Diesel',\n",
       " 'Wasserstoff / Elektro']"
      ]
     },
     "execution_count": 8,
     "metadata": {},
     "output_type": "execute_result"
    }
   ],
   "source": [
    "Car.fuel_types"
   ]
  },
  {
   "cell_type": "code",
   "execution_count": 9,
   "metadata": {},
   "outputs": [],
   "source": [
    "# car = Car('Luxusklasse', 'Elektro', 5)"
   ]
  },
  {
   "cell_type": "code",
   "execution_count": 4,
   "metadata": {},
   "outputs": [
    {
     "name": "stdout",
     "output_type": "stream",
     "text": [
      "vehicle_type:     Luxusklasse\n",
      "fuel_type:        Benzin\n",
      "fuel_consumption: 10\n"
     ]
    }
   ],
   "source": [
    "car = Car('Luxusklasse', 'Benzin', 10)\n",
    "print(car)"
   ]
  },
  {
   "cell_type": "code",
   "execution_count": 11,
   "metadata": {},
   "outputs": [
    {
     "ename": "TypeError",
     "evalue": "get_similar_cars() got an unexpected keyword argument 'vehicle_class'",
     "output_type": "error",
     "traceback": [
      "\u001b[0;31m---------------------------------------------------------------------------\u001b[0m",
      "\u001b[0;31mTypeError\u001b[0m                                 Traceback (most recent call last)",
      "Cell \u001b[0;32mIn [11], line 1\u001b[0m\n\u001b[0;32m----> 1\u001b[0m similar_cars \u001b[38;5;241m=\u001b[39m tcs\u001b[38;5;241m.\u001b[39mget_similar_cars(vehicle_class\u001b[38;5;241m=\u001b[39mcar\u001b[38;5;241m.\u001b[39mvehicle_class, fuel_type\u001b[38;5;241m=\u001b[39mcar\u001b[38;5;241m.\u001b[39mfuel_type, fuel_consumption\u001b[38;5;241m=\u001b[39mcar\u001b[38;5;241m.\u001b[39mfuel_consumption, km\u001b[38;5;241m=\u001b[39m\u001b[38;5;241m20e3\u001b[39m, canton\u001b[38;5;241m=\u001b[39m\u001b[38;5;124m'\u001b[39m\u001b[38;5;124mZH\u001b[39m\u001b[38;5;124m'\u001b[39m, buffer\u001b[38;5;241m=\u001b[39m\u001b[38;5;241m5\u001b[39m, verbose\u001b[38;5;241m=\u001b[39m\u001b[38;5;28;01mTrue\u001b[39;00m)\n",
      "\u001b[0;31mTypeError\u001b[0m: get_similar_cars() got an unexpected keyword argument 'vehicle_class'"
     ]
    }
   ],
   "source": [
    "similar_cars = tcs.get_similar_cars(vehicle_class=car.vehicle_class, fuel_type=car.fuel_type, fuel_consumption=car.fuel_consumption, km=20e3, canton='ZH', buffer=5, verbose=True)"
   ]
  },
  {
   "cell_type": "code",
   "execution_count": null,
   "metadata": {},
   "outputs": [
    {
     "data": {
      "text/plain": [
       "17"
      ]
     },
     "execution_count": 13,
     "metadata": {},
     "output_type": "execute_result"
    }
   ],
   "source": [
    "len(similar_cars)"
   ]
  },
  {
   "cell_type": "code",
   "execution_count": 8,
   "metadata": {},
   "outputs": [],
   "source": [
    "def remove_unit(string):\n",
    "    \"\"\"Removes unit from string like 17'000 CHF/year -> float(17e3)\n",
    "\n",
    "    Args:\n",
    "        string (str): string with unit\n",
    "    \"\"\"\n",
    "    number, unit = string.split(' ')\n",
    "    number = number.replace(\"'\", '')\n",
    "    return float(number)"
   ]
  },
  {
   "cell_type": "code",
   "execution_count": 9,
   "metadata": {},
   "outputs": [],
   "source": [
    "import pandas as pd\n",
    "\n",
    "def generate_archetype(similar_cars):\n",
    "    \"\"\"Generates an archetypical car from a list of similar cars\n",
    "\n",
    "    Args:\n",
    "        similar_cars (list of dict): returned by get_similar_cars()\n",
    "    \"\"\"\n",
    "    car_attributes = []\n",
    "    for c in similar_cars:\n",
    "        costs = c['costs']\n",
    "        attrs = {\n",
    "            'fix_cost': remove_unit(costs['Fixe Kosten']),\n",
    "            'variable_cost': remove_unit(costs['Variable Kosten']),\n",
    "            'cost_per_km': remove_unit(costs['Kilometerkosten'])\n",
    "        }\n",
    "        car_attributes.append(attrs)\n",
    "\n",
    "    car_attributes = pd.DataFrame(car_attributes)\n",
    "\n",
    "    archetype = dict(car_attributes.mean())\n",
    "\n",
    "    return archetype\n",
    "    "
   ]
  },
  {
   "cell_type": "code",
   "execution_count": 10,
   "metadata": {},
   "outputs": [
    {
     "ename": "NameError",
     "evalue": "name 'similar_cars' is not defined",
     "output_type": "error",
     "traceback": [
      "\u001b[0;31m---------------------------------------------------------------------------\u001b[0m",
      "\u001b[0;31mNameError\u001b[0m                                 Traceback (most recent call last)",
      "Cell \u001b[0;32mIn [10], line 1\u001b[0m\n\u001b[0;32m----> 1\u001b[0m archetype \u001b[38;5;241m=\u001b[39m generate_archetype(similar_cars)\n\u001b[1;32m      2\u001b[0m archetype\n",
      "\u001b[0;31mNameError\u001b[0m: name 'similar_cars' is not defined"
     ]
    }
   ],
   "source": [
    "archetype = generate_archetype(similar_cars)\n",
    "archetype"
   ]
  },
  {
   "cell_type": "markdown",
   "metadata": {},
   "source": [
    "## Pipeline"
   ]
  },
  {
   "cell_type": "code",
   "execution_count": 11,
   "metadata": {},
   "outputs": [
    {
     "data": {
      "text/html": [
       "<div>\n",
       "<style scoped>\n",
       "    .dataframe tbody tr th:only-of-type {\n",
       "        vertical-align: middle;\n",
       "    }\n",
       "\n",
       "    .dataframe tbody tr th {\n",
       "        vertical-align: top;\n",
       "    }\n",
       "\n",
       "    .dataframe thead th {\n",
       "        text-align: right;\n",
       "    }\n",
       "</style>\n",
       "<table border=\"1\" class=\"dataframe\">\n",
       "  <thead>\n",
       "    <tr style=\"text-align: right;\">\n",
       "      <th></th>\n",
       "      <th>vehicle_type</th>\n",
       "      <th>fuel_type</th>\n",
       "      <th>fuel_consumption</th>\n",
       "      <th>km</th>\n",
       "      <th>canton</th>\n",
       "    </tr>\n",
       "  </thead>\n",
       "  <tbody>\n",
       "    <tr>\n",
       "      <th>0</th>\n",
       "      <td>SUV S</td>\n",
       "      <td>Benzin</td>\n",
       "      <td>3</td>\n",
       "      <td>15000.0</td>\n",
       "      <td>VD</td>\n",
       "    </tr>\n",
       "    <tr>\n",
       "      <th>1</th>\n",
       "      <td>Luxusklasse</td>\n",
       "      <td>Benzin</td>\n",
       "      <td>7</td>\n",
       "      <td>20000.0</td>\n",
       "      <td>AI</td>\n",
       "    </tr>\n",
       "    <tr>\n",
       "      <th>2</th>\n",
       "      <td>Mittelklasse</td>\n",
       "      <td>Benzin</td>\n",
       "      <td>2</td>\n",
       "      <td>22000.0</td>\n",
       "      <td>ZG</td>\n",
       "    </tr>\n",
       "  </tbody>\n",
       "</table>\n",
       "</div>"
      ],
      "text/plain": [
       "   vehicle_type fuel_type  fuel_consumption       km canton\n",
       "0         SUV S    Benzin                 3  15000.0     VD\n",
       "1   Luxusklasse    Benzin                 7  20000.0     AI\n",
       "2  Mittelklasse    Benzin                 2  22000.0     ZG"
      ]
     },
     "execution_count": 11,
     "metadata": {},
     "output_type": "execute_result"
    }
   ],
   "source": [
    "## generate data.frame with variables to feed to get_similar_cars\n",
    "df_qualt = pd.DataFrame({\n",
    "    'vehicle_type': ['SUV S', 'Luxusklasse', 'Mittelklasse'],\n",
    "    'fuel_type': ['Benzin', 'Benzin', 'Benzin'],\n",
    "    'fuel_consumption': [3, 7, 2],\n",
    "    'km': [15e3, 20e3, 22e3],\n",
    "    'canton': ['VD', 'AI', 'ZG']\n",
    "})\n",
    "\n",
    "df_qualt.head()"
   ]
  },
  {
   "cell_type": "code",
   "execution_count": 12,
   "metadata": {},
   "outputs": [],
   "source": [
    "def helper(row, max=5, verbose=True):\n",
    "    car = Car(row['vehicle_type'], row['fuel_type'], row['fuel_consumption'])\n",
    "    init = 1\n",
    "    if verbose:\n",
    "        print(car)\n",
    "    while(init < max+1):\n",
    "        try:\n",
    "            sc = tcs.get_similar_cars(car, row['km'], row['canton'], buffer=init, verbose=verbose)\n",
    "        except:\n",
    "            init += 1\n",
    "            continue\n",
    "        return sc\n",
    "    return None"
   ]
  },
  {
   "cell_type": "code",
   "execution_count": 13,
   "metadata": {},
   "outputs": [
    {
     "name": "stdout",
     "output_type": "stream",
     "text": [
      "vehicle_type:     SUV S\n",
      "fuel_type:        Benzin\n",
      "fuel_consumption: 3\n",
      "No similar cars found. A missmatch between model and consumption? Consider increasing buffer.\n",
      "vehicle_type:     Luxusklasse\n",
      "fuel_type:        Benzin\n",
      "fuel_consumption: 7\n",
      "No similar cars found. A missmatch between model and consumption? Consider increasing buffer.\n",
      "vehicle_type:     Mittelklasse\n",
      "fuel_type:        Benzin\n",
      "fuel_consumption: 2\n",
      "No similar cars found. A missmatch between model and consumption? Consider increasing buffer.\n"
     ]
    }
   ],
   "source": [
    "\n",
    "df_qualt['similar_cars'] = df_qualt.apply(lambda row: helper(row), axis=1)"
   ]
  },
  {
   "cell_type": "markdown",
   "metadata": {},
   "source": [
    "## TODO\n",
    "- `fuel_consumption` with `fuel_type='electric'` does not work"
   ]
  },
  {
   "cell_type": "markdown",
   "metadata": {},
   "source": []
  }
 ],
 "metadata": {
  "kernelspec": {
   "display_name": "Python 3.8.10 ('env': venv)",
   "language": "python",
   "name": "python3"
  },
  "language_info": {
   "codemirror_mode": {
    "name": "ipython",
    "version": 3
   },
   "file_extension": ".py",
   "mimetype": "text/x-python",
   "name": "python",
   "nbconvert_exporter": "python",
   "pygments_lexer": "ipython3",
   "version": "3.8.10"
  },
  "orig_nbformat": 4,
  "vscode": {
   "interpreter": {
    "hash": "5bce4c64e37fb9351008a475e2502aa773dae103681da16b4c00026669070906"
   }
  }
 },
 "nbformat": 4,
 "nbformat_minor": 2
}
