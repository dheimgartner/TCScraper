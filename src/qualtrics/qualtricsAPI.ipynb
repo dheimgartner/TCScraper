{
 "cells": [
  {
   "cell_type": "markdown",
   "metadata": {},
   "source": [
    "# Qualtrics integration and pipeline\n",
    "Demonstration of how we will generate archetypes from the *Qualtrics* responses both for the current car as well as for each vintage (i.e. archetype defined by `vehicle_type` and `fuel_type`)"
   ]
  },
  {
   "cell_type": "markdown",
   "metadata": {},
   "source": [
    "## Qualtrics"
   ]
  },
  {
   "cell_type": "code",
   "execution_count": null,
   "metadata": {},
   "outputs": [],
   "source": [
    "import os\n",
    "\n",
    "from QualtricsAPI.Setup import Credentials\n",
    "\n",
    "from QualtricsAPI import Responses"
   ]
  },
  {
   "cell_type": "code",
   "execution_count": null,
   "metadata": {},
   "outputs": [],
   "source": [
    "TOKEN = os.environ.get('QUALTRICS_API_KEY')\n",
    "DATA_CENTER = os.environ.get('QUALTRICS_BASE_URL').split('.')[0]"
   ]
  },
  {
   "cell_type": "code",
   "execution_count": null,
   "metadata": {},
   "outputs": [],
   "source": [
    "Credentials().qualtrics_api_credentials(token=TOKEN, data_center=DATA_CENTER)"
   ]
  },
  {
   "cell_type": "code",
   "execution_count": null,
   "metadata": {},
   "outputs": [],
   "source": [
    "r = Responses()\n",
    "survey_id = 'SV_6u4YzY24OAfhWfQ'\n",
    "df_pre_study = r.get_survey_responses('SV_6u4YzY24OAfhWfQ')"
   ]
  },
  {
   "cell_type": "code",
   "execution_count": null,
   "metadata": {},
   "outputs": [],
   "source": [
    "df_pre_study.head()"
   ]
  },
  {
   "cell_type": "markdown",
   "metadata": {},
   "source": [
    "## Workflow"
   ]
  },
  {
   "cell_type": "code",
   "execution_count": null,
   "metadata": {},
   "outputs": [],
   "source": [
    "import tcsscraper.scrape as tcs\n",
    "\n",
    "from tcsscraper.helper import Car"
   ]
  },
  {
   "cell_type": "code",
   "execution_count": null,
   "metadata": {},
   "outputs": [],
   "source": [
    "Car.vehicle_classes"
   ]
  },
  {
   "cell_type": "code",
   "execution_count": null,
   "metadata": {},
   "outputs": [],
   "source": [
    "Car.fuel_types"
   ]
  },
  {
   "cell_type": "code",
   "execution_count": null,
   "metadata": {},
   "outputs": [],
   "source": [
    "# car = Car('Luxusklasse', 'Elektro', 5)"
   ]
  },
  {
   "cell_type": "code",
   "execution_count": null,
   "metadata": {},
   "outputs": [],
   "source": [
    "car = Car('Luxusklasse', 'Benzin', 10)\n",
    "print(car)"
   ]
  },
  {
   "cell_type": "code",
   "execution_count": null,
   "metadata": {},
   "outputs": [],
   "source": [
    "similar_cars = tcs.get_similar_cars(car, km=20e3, canton='ZH', buffer=5, verbose=True)"
   ]
  },
  {
   "cell_type": "code",
   "execution_count": null,
   "metadata": {},
   "outputs": [],
   "source": [
    "len(similar_cars)"
   ]
  },
  {
   "cell_type": "code",
   "execution_count": null,
   "metadata": {},
   "outputs": [],
   "source": [
    "def remove_unit(string):\n",
    "    \"\"\"Removes unit from string like 17'000 CHF/year -> float(17e3)\n",
    "\n",
    "    Args:\n",
    "        string (str): string with unit\n",
    "    \"\"\"\n",
    "    number, unit = string.split(' ')\n",
    "    number = number.replace(\"'\", '')\n",
    "    return float(number)"
   ]
  },
  {
   "cell_type": "code",
   "execution_count": null,
   "metadata": {},
   "outputs": [],
   "source": [
    "import pandas as pd\n",
    "\n",
    "def generate_archetype(similar_cars, ndigits=2):\n",
    "    \"\"\"Generates an archetypical car from a list of similar cars\n",
    "\n",
    "    Args:\n",
    "        similar_cars (list of dict): returned by get_similar_cars()\n",
    "        ndigits (int): round average values to\n",
    "    \"\"\"\n",
    "    car_attributes = []\n",
    "    for c in similar_cars:\n",
    "        costs = c['costs']\n",
    "        attrs = {\n",
    "            'fix_cost': remove_unit(costs['Fixe Kosten']),\n",
    "            'variable_cost': remove_unit(costs['Variable Kosten']),\n",
    "            'cost_per_km': remove_unit(costs['Kilometerkosten'])\n",
    "        }\n",
    "        car_attributes.append(attrs)\n",
    "\n",
    "    car_attributes = pd.DataFrame(car_attributes)\n",
    "\n",
    "    archetype = dict(round(car_attributes.mean(), ndigits=ndigits))\n",
    "\n",
    "    return archetype\n",
    "    "
   ]
  },
  {
   "cell_type": "code",
   "execution_count": null,
   "metadata": {},
   "outputs": [],
   "source": [
    "archetype = generate_archetype(similar_cars)\n",
    "archetype"
   ]
  },
  {
   "cell_type": "markdown",
   "metadata": {},
   "source": [
    "## Pipeline\n",
    "\n",
    "### User specific archetype"
   ]
  },
  {
   "cell_type": "code",
   "execution_count": null,
   "metadata": {},
   "outputs": [],
   "source": [
    "## generate data.frame with variables to feed to get_similar_cars\n",
    "df_qualt = pd.DataFrame({\n",
    "    'vehicle_type': ['SUV S', 'Luxusklasse', 'Mittelklasse'],\n",
    "    'fuel_type': ['Elektro', 'Benzin', 'Benzin'],\n",
    "    'fuel_consumption': [14, 7, 2],  ## if electric => kWh/100km\n",
    "    'km': [15e3, 20e3, 22e3],\n",
    "    'canton': ['VD', 'AI', 'ZG']\n",
    "})\n",
    "\n",
    "df_qualt.head()"
   ]
  },
  {
   "cell_type": "code",
   "execution_count": null,
   "metadata": {},
   "outputs": [],
   "source": [
    "def helper(row, max_buffer=5, verbose=True):\n",
    "    car = Car(row['vehicle_type'], row['fuel_type'], row['fuel_consumption'])\n",
    "    init = 1\n",
    "    if verbose:\n",
    "        print('---\\n{}\\n---'.format(car))\n",
    "    while(init < max_buffer+1):\n",
    "        try:\n",
    "            sc = tcs.get_similar_cars(car, row['km'], row['canton'], buffer=init, verbose=verbose)\n",
    "        except Exception:\n",
    "            init += 1\n",
    "            if verbose:\n",
    "                print('increaseing buffer to {}'.format(init))\n",
    "            continue\n",
    "        return sc\n",
    "    return None"
   ]
  },
  {
   "cell_type": "code",
   "execution_count": null,
   "metadata": {},
   "outputs": [],
   "source": [
    "\n",
    "df_qualt['similar_cars'] = df_qualt.apply(lambda row: helper(row), axis=1)"
   ]
  },
  {
   "cell_type": "code",
   "execution_count": null,
   "metadata": {},
   "outputs": [],
   "source": [
    "## generate archetypes\n",
    "df_qualt['archetype'] = df_qualt.apply(lambda row: generate_archetype(row['similar_cars']), axis=1)\n",
    "df_qualt['archetype']"
   ]
  },
  {
   "cell_type": "code",
   "execution_count": null,
   "metadata": {},
   "outputs": [],
   "source": [
    "## unpack stuff\n",
    "df_qualt = df_qualt.assign(\n",
    "    archetype_fix_cost=lambda x: [y[\"fix_cost\"] for y in x[\"archetype\"]],\n",
    "    archetype_variable_cost=lambda x: [y[\"variable_cost\"] for y in x[\"archetype\"]],\n",
    "    archetype_cost_per_km=lambda x: [y[\"cost_per_km\"] for y in x[\"archetype\"]]\n",
    ")\n"
   ]
  },
  {
   "cell_type": "markdown",
   "metadata": {},
   "source": [
    "### Generic archetypes"
   ]
  },
  {
   "cell_type": "code",
   "execution_count": 64,
   "metadata": {},
   "outputs": [],
   "source": [
    "df_base = tcs.get_base_table()"
   ]
  },
  {
   "cell_type": "code",
   "execution_count": null,
   "metadata": {},
   "outputs": [],
   "source": []
  },
  {
   "cell_type": "code",
   "execution_count": null,
   "metadata": {},
   "outputs": [],
   "source": []
  },
  {
   "cell_type": "code",
   "execution_count": null,
   "metadata": {},
   "outputs": [],
   "source": []
  },
  {
   "cell_type": "code",
   "execution_count": null,
   "metadata": {},
   "outputs": [],
   "source": []
  },
  {
   "cell_type": "markdown",
   "metadata": {},
   "source": [
    "## Remarks\n",
    "- `fuel_consumption` with `fuel_type='electric'` see **Normverbrauch**: https://www.verbrauchskatalog.ch/index.php => higher values and unit kWh/100km"
   ]
  }
 ],
 "metadata": {
  "kernelspec": {
   "display_name": "Python 3.8.10 ('env': venv)",
   "language": "python",
   "name": "python3"
  },
  "language_info": {
   "codemirror_mode": {
    "name": "ipython",
    "version": 3
   },
   "file_extension": ".py",
   "mimetype": "text/x-python",
   "name": "python",
   "nbconvert_exporter": "python",
   "pygments_lexer": "ipython3",
   "version": "3.8.10"
  },
  "orig_nbformat": 4,
  "vscode": {
   "interpreter": {
    "hash": "5bce4c64e37fb9351008a475e2502aa773dae103681da16b4c00026669070906"
   }
  }
 },
 "nbformat": 4,
 "nbformat_minor": 2
}
